{
 "cells": [
  {
   "cell_type": "code",
   "execution_count": 2,
   "metadata": {},
   "outputs": [
    {
     "name": "stdout",
     "output_type": "stream",
     "text": [
      "Python executable path: c:\\Users\\dlons1\\AppData\\Local\\Programs\\Python\\Python313\\python.exe\n",
      "PyTorch installation path: c:\\Users\\dlons1\\AppData\\Local\\Programs\\Python\\Python313\\Lib\\site-packages\\torch\\__init__.py\n",
      "Tue Apr 15 16:05:59 2025       \n",
      "+---------------------------------------------------------------------------------------+\n",
      "| NVIDIA-SMI 536.67                 Driver Version: 536.67       CUDA Version: 12.2     |\n",
      "|-----------------------------------------+----------------------+----------------------+\n",
      "| GPU  Name                     TCC/WDDM  | Bus-Id        Disp.A | Volatile Uncorr. ECC |\n",
      "| Fan  Temp   Perf          Pwr:Usage/Cap |         Memory-Usage | GPU-Util  Compute M. |\n",
      "|                                         |                      |               MIG M. |\n",
      "|=========================================+======================+======================|\n",
      "|   0  NVIDIA RTX 5000 Ada Gene...  WDDM  | 00000000:01:00.0  On |                  Off |\n",
      "| 30%   30C    P8               8W / 250W |    709MiB / 32760MiB |      3%      Default |\n",
      "|                                         |                      |                  N/A |\n",
      "+-----------------------------------------+----------------------+----------------------+\n",
      "                                                                                         \n",
      "+---------------------------------------------------------------------------------------+\n",
      "| Processes:                                                                            |\n",
      "|  GPU   GI   CI        PID   Type   Process name                            GPU Memory |\n",
      "|        ID   ID                                                             Usage      |\n",
      "|=======================================================================================|\n",
      "|    0   N/A  N/A      1576    C+G   ...5n1h2txyewy\\ShellExperienceHost.exe    N/A      |\n",
      "|    0   N/A  N/A      4688    C+G   C:\\Windows\\System32\\Taskmgr.exe           N/A      |\n",
      "|    0   N/A  N/A      6484    C+G   ...crosoft\\Edge\\Application\\msedge.exe    N/A      |\n",
      "|    0   N/A  N/A      6996    C+G   ...nt.CBS_cw5n1h2txyewy\\SearchHost.exe    N/A      |\n",
      "|    0   N/A  N/A      7400    C+G   ...siveControlPanel\\SystemSettings.exe    N/A      |\n",
      "|    0   N/A  N/A      7636    C+G   ...oogle\\Chrome\\Application\\chrome.exe    N/A      |\n",
      "|    0   N/A  N/A      7676    C+G   C:\\Windows\\explorer.exe                   N/A      |\n",
      "|    0   N/A  N/A      8368    C+G   ...2txyewy\\StartMenuExperienceHost.exe    N/A      |\n",
      "|    0   N/A  N/A     16460    C+G   ...ta\\Local\\Programs\\cursor\\Cursor.exe    N/A      |\n",
      "|    0   N/A  N/A     18216    C+G   ...esktop\\app-3.4.18\\GitHubDesktop.exe    N/A      |\n",
      "|    0   N/A  N/A     18768    C+G   ...on\\135.0.3179.54\\msedgewebview2.exe    N/A      |\n",
      "|    0   N/A  N/A     20164    C+G   ...__8wekyb3d8bbwe\\WindowsTerminal.exe    N/A      |\n",
      "|    0   N/A  N/A     21768    C+G   ...t.LockApp_cw5n1h2txyewy\\LockApp.exe    N/A      |\n",
      "|    0   N/A  N/A     22536    C+G   ...les\\Microsoft OneDrive\\OneDrive.exe    N/A      |\n",
      "+---------------------------------------------------------------------------------------+\n",
      "\n"
     ]
    }
   ],
   "source": [
    "import sys\n",
    "print(\"Python executable path:\", sys.executable)\n",
    "import torch\n",
    "print(\"PyTorch installation path:\", torch.__file__)\n",
    "\n",
    "import subprocess\n",
    "try:\n",
    "    nvidia_smi = subprocess.check_output([\"nvidia-smi\"])\n",
    "    print(nvidia_smi.decode('utf-8'))\n",
    "except:\n",
    "    print(\"nvidia-smi command not found. Please verify NVIDIA drivers are installed.\")"
   ]
  },
  {
   "cell_type": "code",
   "execution_count": 6,
   "metadata": {},
   "outputs": [
    {
     "name": "stdout",
     "output_type": "stream",
     "text": [
      "PyTorch Version: 2.6.0+cpu\n",
      "CUDA Available: False\n"
     ]
    }
   ],
   "source": [
    "import torch\n",
    "print(f\"PyTorch Version: {torch.__version__}\")\n",
    "print(f\"CUDA Available: {torch.cuda.is_available()}\")\n",
    "if torch.cuda.is_available():\n",
    "    print(f\"CUDA Device: {torch.cuda.get_device_name(0)}\")\n",
    "    # Try a simple CUDA operation\n",
    "    x = torch.rand(5, 3).cuda()\n",
    "    print(\"CUDA tensor created successfully:\", x)"
   ]
  },
  {
   "cell_type": "code",
   "execution_count": 4,
   "metadata": {},
   "outputs": [
    {
     "name": "stdout",
     "output_type": "stream",
     "text": [
      "certifi==2022.12.7\n",
      "charset-normalizer==2.1.1\n",
      "filelock==3.13.1\n",
      "fsspec==2024.6.1\n",
      "idna==3.4\n",
      "Jinja2==3.1.4\n",
      "MarkupSafe==2.1.5\n",
      "mpmath==1.3.0\n",
      "networkx==3.3\n",
      "numpy==2.1.2\n",
      "pillow==11.0.0\n",
      "requests==2.28.1\n",
      "sympy==1.13.1\n",
      "typing_extensions==4.12.2\n",
      "urllib3==1.26.13\n"
     ]
    }
   ],
   "source": [
    "!pip freeze"
   ]
  },
  {
   "cell_type": "code",
   "execution_count": 3,
   "metadata": {},
   "outputs": [
    {
     "name": "stdout",
     "output_type": "stream",
     "text": [
      "Current Python executable: c:\\Users\\dlons1\\AppData\\Local\\Programs\\Python\\Python313\\python.exe\n",
      "\n",
      "All Python paths:\n",
      "c:\\Users\\dlons1\\AppData\\Local\\Programs\\Python\\Python313\\python313.zip\n",
      "c:\\Users\\dlons1\\AppData\\Local\\Programs\\Python\\Python313\\DLLs\n",
      "c:\\Users\\dlons1\\AppData\\Local\\Programs\\Python\\Python313\\Lib\n",
      "c:\\Users\\dlons1\\AppData\\Local\\Programs\\Python\\Python313\n",
      "\n",
      "C:\\Users\\dlons1\\AppData\\Roaming\\Python\\Python313\\site-packages\n",
      "C:\\Users\\dlons1\\AppData\\Roaming\\Python\\Python313\\site-packages\\win32\n",
      "C:\\Users\\dlons1\\AppData\\Roaming\\Python\\Python313\\site-packages\\win32\\lib\n",
      "C:\\Users\\dlons1\\AppData\\Roaming\\Python\\Python313\\site-packages\\Pythonwin\n",
      "c:\\Users\\dlons1\\AppData\\Local\\Programs\\Python\\Python313\\Lib\\site-packages\n",
      "\n",
      "Torch installation location:\n",
      "c:\\Users\\dlons1\\AppData\\Local\\Programs\\Python\\Python313\\Lib\\site-packages\\torch\\__init__.py\n"
     ]
    }
   ],
   "source": [
    "import sys\n",
    "import os\n",
    "\n",
    "print(\"Current Python executable:\", sys.executable)\n",
    "print(\"\\nAll Python paths:\")\n",
    "for p in sys.path:\n",
    "    print(p)\n",
    "\n",
    "print(\"\\nTorch installation location:\")\n",
    "import torch\n",
    "print(torch.__file__)"
   ]
  }
 ],
 "metadata": {
  "kernelspec": {
   "display_name": "Python 3",
   "language": "python",
   "name": "python3"
  },
  "language_info": {
   "codemirror_mode": {
    "name": "ipython",
    "version": 3
   },
   "file_extension": ".py",
   "mimetype": "text/x-python",
   "name": "python",
   "nbconvert_exporter": "python",
   "pygments_lexer": "ipython3",
   "version": "3.13.3"
  }
 },
 "nbformat": 4,
 "nbformat_minor": 2
}
